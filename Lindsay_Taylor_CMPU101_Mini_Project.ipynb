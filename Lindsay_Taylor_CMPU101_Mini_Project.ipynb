{
  "cells": [
    {
      "cell_type": "markdown",
      "metadata": {
        "id": "daf6CySEK-rZ"
      },
      "source": [
        "1.\n",
        "\n",
        "The data includes the ratings of different coffee brands across the world by professional judges. The coffee is scored base on many tasting components such as as sweetness, acidity, and aftertaste. Each different coffee has information on the type, origin, growing location, processing method, and owner"
      ]
    },
    {
      "cell_type": "code",
      "execution_count": null,
      "metadata": {
        "id": "wJ5SNMaK8mr1"
      },
      "outputs": [],
      "source": [
        "#2.\n",
        "from datascience import *\n",
        "import pandas as pd\n",
        "\n",
        "\n",
        "# Import numpy also\n",
        "import numpy as np\n",
        "\n",
        "from datascience import *\n",
        "import numpy as np\n",
        "\n",
        "%matplotlib inline\n",
        "import matplotlib.pyplot as plots\n",
        "plots.style.use(\"fivethirtyeight\")\n",
        "\n",
        "import matplotlib.pyplot as plt\n",
        "\n",
        "%pip install -qq ipytest\n",
        "\n",
        "import ipytest\n",
        "\n",
        "ipytest.autoconfig()"
      ]
    },
    {
      "cell_type": "markdown",
      "metadata": {
        "id": "fBCW4CwnLuid"
      },
      "source": [
        "3.\n",
        "\n",
        "columns with missing values:\n",
        "- farm_name\n",
        "- company\n",
        "- region\n",
        "\n",
        "Inconsistent columns (example):\n",
        "- bag_weight\n",
        "\n",
        "69 kg\n",
        "\n",
        "6\n",
        "\n",
        "5lbs"
      ]
    },
    {
      "cell_type": "markdown",
      "metadata": {
        "id": "OAMiAK4eN5e6"
      },
      "source": [
        "4. Questions\n",
        "\n",
        "\n",
        "Question #1: How do the different processing methods impact coffee acidity, body, and flavor? How do they compare to each other?\n",
        "\n",
        "Question #2: Which region has the highest and lowest flavor ranking and how do they compare to eachother?\n",
        "\n",
        "Question #3: Do companies use one processing method or multiple? Does this processing method impact the moisture level of the coffee?"
      ]
    },
    {
      "cell_type": "code",
      "execution_count": null,
      "metadata": {
        "id": "SA0Y4gCaDeQk"
      },
      "outputs": [],
      "source": [
        "URL = \"https://docs.google.com/spreadsheets/d/1zjVYl_8aBaZpxTomEdKhfagUmA4Cwv9dB36a1sCDs5o/export?format=csv\"\n",
        "original_data = Table.read_table(URL)"
      ]
    },
    {
      "cell_type": "code",
      "execution_count": null,
      "metadata": {
        "colab": {
          "base_uri": "https://localhost:8080/",
          "height": 846
        },
        "id": "Xht7fgM_FhWN",
        "outputId": "8e3c0e78-34ce-46a2-c699-e68a788caaab"
      },
      "outputs": [
        {
          "output_type": "execute_result",
          "data": {
            "text/plain": [
              "total_cup_points | species | owner                       | country_of_origin | farm_name                                | company                               | region                      | number_of_bags | bag_weight | processing_method | aroma | flavor | aftertaste | acidity | body | balance | uniformity | clean_cup | sweetness | cupper_points | moisture\n",
              "90.58            | Arabica | metad plc                   | Ethiopia          | metad plc                                | metad agricultural developmet plc     | guji-hambela                | 300            | 60 kg      | Washed / Wet      | 8.67  | 8.83   | 8.67       | 8.75    | 8.5  | 8.42    | 10         | 10        | 10        | 8.75          | 0.12\n",
              "89.92            | Arabica | metad plc                   | Ethiopia          | metad plc                                | metad agricultural developmet plc     | guji-hambela                | 300            | 60 kg      | Washed / Wet      | 8.75  | 8.67   | 8.5        | 8.58    | 8.42 | 8.42    | 10         | 10        | 10        | 8.58          | 0.12\n",
              "89.75            | Arabica | grounds for health admin    | Guatemala         | san marcos barrancas \"san cristobal cuch | nan                                   | nan                         | 5              | 1          | nan               | 8.42  | 8.5    | 8.42       | 8.42    | 8.33 | 8.42    | 10         | 10        | 10        | 9.25          | 0\n",
              "89               | Arabica | yidnekachew dabessa         | Ethiopia          | yidnekachew dabessa coffee plantation    | yidnekachew debessa coffee plantation | oromia                      | 320            | 60 kg      | Natural / Dry     | 8.17  | 8.58   | 8.42       | 8.42    | 8.5  | 8.25    | 10         | 10        | 10        | 8.67          | 0.11\n",
              "88.83            | Arabica | metad plc                   | Ethiopia          | metad plc                                | metad agricultural developmet plc     | guji-hambela                | 300            | 60 kg      | Washed / Wet      | 8.25  | 8.5    | 8.25       | 8.5     | 8.42 | 8.33    | 10         | 10        | 10        | 8.58          | 0.12\n",
              "88.83            | Arabica | ji-ae ahn                   | Brazil            | nan                                      | nan                                   | nan                         | 100            | 30 kg      | Natural / Dry     | 8.58  | 8.42   | 8.42       | 8.5     | 8.25 | 8.33    | 10         | 10        | 10        | 8.33          | 0.11\n",
              "88.75            | Arabica | hugo valdivia               | Peru              | nan                                      | richmond investment-coffee department | nan                         | 100            | 69 kg      | Washed / Wet      | 8.42  | 8.5    | 8.33       | 8.5     | 8.25 | 8.25    | 10         | 10        | 10        | 8.5           | 0.11\n",
              "88.67            | Arabica | ethiopia commodity exchange | Ethiopia          | aolme                                    | nan                                   | oromia                      | 300            | 60 kg      | nan               | 8.25  | 8.33   | 8.5        | 8.42    | 8.33 | 8.5     | 10         | 10        | 9.33      | 9             | 0.03\n",
              "88.42            | Arabica | ethiopia commodity exchange | Ethiopia          | aolme                                    | nan                                   | oromiya                     | 300            | 60 kg      | nan               | 8.67  | 8.67   | 8.58       | 8.42    | 8.33 | 8.42    | 9.33       | 10        | 9.33      | 8.67          | 0.03\n",
              "88.25            | Arabica | diamond enterprise plc      | Ethiopia          | tulla coffee farm                        | diamond enterprise plc                | snnp/kaffa zone,gimbowereda | 50             | 60 kg      | Natural / Dry     | 8.08  | 8.58   | 8.5        | 8.5     | 7.67 | 8.42    | 10         | 10        | 10        | 8.5           | 0.1\n",
              "... (1329 rows omitted)"
            ],
            "text/html": [
              "<table border=\"1\" class=\"dataframe\">\n",
              "    <thead>\n",
              "        <tr>\n",
              "            <th>total_cup_points</th> <th>species</th> <th>owner</th> <th>country_of_origin</th> <th>farm_name</th> <th>company</th> <th>region</th> <th>number_of_bags</th> <th>bag_weight</th> <th>processing_method</th> <th>aroma</th> <th>flavor</th> <th>aftertaste</th> <th>acidity</th> <th>body</th> <th>balance</th> <th>uniformity</th> <th>clean_cup</th> <th>sweetness</th> <th>cupper_points</th> <th>moisture</th>\n",
              "        </tr>\n",
              "    </thead>\n",
              "    <tbody>\n",
              "        <tr>\n",
              "            <td>90.58           </td> <td>Arabica</td> <td>metad plc                  </td> <td>Ethiopia         </td> <td>metad plc                               </td> <td>metad agricultural developmet plc    </td> <td>guji-hambela               </td> <td>300           </td> <td>60 kg     </td> <td>Washed / Wet     </td> <td>8.67 </td> <td>8.83  </td> <td>8.67      </td> <td>8.75   </td> <td>8.5 </td> <td>8.42   </td> <td>10        </td> <td>10       </td> <td>10       </td> <td>8.75         </td> <td>0.12    </td>\n",
              "        </tr>\n",
              "        <tr>\n",
              "            <td>89.92           </td> <td>Arabica</td> <td>metad plc                  </td> <td>Ethiopia         </td> <td>metad plc                               </td> <td>metad agricultural developmet plc    </td> <td>guji-hambela               </td> <td>300           </td> <td>60 kg     </td> <td>Washed / Wet     </td> <td>8.75 </td> <td>8.67  </td> <td>8.5       </td> <td>8.58   </td> <td>8.42</td> <td>8.42   </td> <td>10        </td> <td>10       </td> <td>10       </td> <td>8.58         </td> <td>0.12    </td>\n",
              "        </tr>\n",
              "        <tr>\n",
              "            <td>89.75           </td> <td>Arabica</td> <td>grounds for health admin   </td> <td>Guatemala        </td> <td>san marcos barrancas \"san cristobal cuch</td> <td>nan                                  </td> <td>nan                        </td> <td>5             </td> <td>1         </td> <td>nan              </td> <td>8.42 </td> <td>8.5   </td> <td>8.42      </td> <td>8.42   </td> <td>8.33</td> <td>8.42   </td> <td>10        </td> <td>10       </td> <td>10       </td> <td>9.25         </td> <td>0       </td>\n",
              "        </tr>\n",
              "        <tr>\n",
              "            <td>89              </td> <td>Arabica</td> <td>yidnekachew dabessa        </td> <td>Ethiopia         </td> <td>yidnekachew dabessa coffee plantation   </td> <td>yidnekachew debessa coffee plantation</td> <td>oromia                     </td> <td>320           </td> <td>60 kg     </td> <td>Natural / Dry    </td> <td>8.17 </td> <td>8.58  </td> <td>8.42      </td> <td>8.42   </td> <td>8.5 </td> <td>8.25   </td> <td>10        </td> <td>10       </td> <td>10       </td> <td>8.67         </td> <td>0.11    </td>\n",
              "        </tr>\n",
              "        <tr>\n",
              "            <td>88.83           </td> <td>Arabica</td> <td>metad plc                  </td> <td>Ethiopia         </td> <td>metad plc                               </td> <td>metad agricultural developmet plc    </td> <td>guji-hambela               </td> <td>300           </td> <td>60 kg     </td> <td>Washed / Wet     </td> <td>8.25 </td> <td>8.5   </td> <td>8.25      </td> <td>8.5    </td> <td>8.42</td> <td>8.33   </td> <td>10        </td> <td>10       </td> <td>10       </td> <td>8.58         </td> <td>0.12    </td>\n",
              "        </tr>\n",
              "        <tr>\n",
              "            <td>88.83           </td> <td>Arabica</td> <td>ji-ae ahn                  </td> <td>Brazil           </td> <td>nan                                     </td> <td>nan                                  </td> <td>nan                        </td> <td>100           </td> <td>30 kg     </td> <td>Natural / Dry    </td> <td>8.58 </td> <td>8.42  </td> <td>8.42      </td> <td>8.5    </td> <td>8.25</td> <td>8.33   </td> <td>10        </td> <td>10       </td> <td>10       </td> <td>8.33         </td> <td>0.11    </td>\n",
              "        </tr>\n",
              "        <tr>\n",
              "            <td>88.75           </td> <td>Arabica</td> <td>hugo valdivia              </td> <td>Peru             </td> <td>nan                                     </td> <td>richmond investment-coffee department</td> <td>nan                        </td> <td>100           </td> <td>69 kg     </td> <td>Washed / Wet     </td> <td>8.42 </td> <td>8.5   </td> <td>8.33      </td> <td>8.5    </td> <td>8.25</td> <td>8.25   </td> <td>10        </td> <td>10       </td> <td>10       </td> <td>8.5          </td> <td>0.11    </td>\n",
              "        </tr>\n",
              "        <tr>\n",
              "            <td>88.67           </td> <td>Arabica</td> <td>ethiopia commodity exchange</td> <td>Ethiopia         </td> <td>aolme                                   </td> <td>nan                                  </td> <td>oromia                     </td> <td>300           </td> <td>60 kg     </td> <td>nan              </td> <td>8.25 </td> <td>8.33  </td> <td>8.5       </td> <td>8.42   </td> <td>8.33</td> <td>8.5    </td> <td>10        </td> <td>10       </td> <td>9.33     </td> <td>9            </td> <td>0.03    </td>\n",
              "        </tr>\n",
              "        <tr>\n",
              "            <td>88.42           </td> <td>Arabica</td> <td>ethiopia commodity exchange</td> <td>Ethiopia         </td> <td>aolme                                   </td> <td>nan                                  </td> <td>oromiya                    </td> <td>300           </td> <td>60 kg     </td> <td>nan              </td> <td>8.67 </td> <td>8.67  </td> <td>8.58      </td> <td>8.42   </td> <td>8.33</td> <td>8.42   </td> <td>9.33      </td> <td>10       </td> <td>9.33     </td> <td>8.67         </td> <td>0.03    </td>\n",
              "        </tr>\n",
              "        <tr>\n",
              "            <td>88.25           </td> <td>Arabica</td> <td>diamond enterprise plc     </td> <td>Ethiopia         </td> <td>tulla coffee farm                       </td> <td>diamond enterprise plc               </td> <td>snnp/kaffa zone,gimbowereda</td> <td>50            </td> <td>60 kg     </td> <td>Natural / Dry    </td> <td>8.08 </td> <td>8.58  </td> <td>8.5       </td> <td>8.5    </td> <td>7.67</td> <td>8.42   </td> <td>10        </td> <td>10       </td> <td>10       </td> <td>8.5          </td> <td>0.1     </td>\n",
              "        </tr>\n",
              "    </tbody>\n",
              "</table>\n",
              "<p>... (1329 rows omitted)</p>"
            ]
          },
          "metadata": {},
          "execution_count": 268
        }
      ],
      "source": [
        "data = original_data.drop(5, 6, 7, 9, 11, 14, 15, 16, 17, 18, 31, 32, 33, 34, 35, 36, 37, 38, 39, 40, 41, 42)\n",
        "data"
      ]
    },
    {
      "cell_type": "code",
      "execution_count": null,
      "metadata": {
        "id": "UMrEEBmxH-ZK"
      },
      "outputs": [],
      "source": [
        "#change Nan to NA\n",
        "def change_to_NA(word: str) -> str:\n",
        "  \"\"\"Return NA if there is a blank\"\"\"\n",
        "  if word == \"nan\":\n",
        "    return \"NA\"\n",
        "  return word\n",
        "\n",
        "#Apply \"Change to NA\" to columns\n",
        "def apply_NA(col: str) -> Table:\n",
        "  \"\"\"Apply 'Change_to_NA' to columns in data\"\"\"\n",
        "  return data.apply(change_to_NA, col)\n",
        "\n",
        "data[\"farm_name\"] = apply_NA(\"farm_name\")\n",
        "data[\"region\"] = apply_NA( \"region\")\n",
        "data[\"company\"] = apply_NA(\"company\")\n",
        "data[\"processing_method\"] = apply_NA(\"processing_method\")\n",
        "NA_table = data\n",
        "NA_table"
      ]
    },
    {
      "cell_type": "markdown",
      "source": [
        "^^^\n",
        "These functions take a column and change a blank cell to NA. The columns used are 'farm name' 'region' 'company' and 'processing methods'"
      ],
      "metadata": {
        "id": "tRr1VjbMSenu"
      }
    },
    {
      "cell_type": "code",
      "execution_count": null,
      "metadata": {
        "colab": {
          "base_uri": "https://localhost:8080/"
        },
        "id": "3Ssyd9NpGWu_",
        "outputId": "327af1f9-9549-4efc-e4ae-9d5a4642a268"
      },
      "outputs": [
        {
          "output_type": "stream",
          "name": "stdout",
          "text": [
            "\u001b[32m.\u001b[0m\u001b[32m                                                                                            [100%]\u001b[0m\n",
            "\u001b[32m\u001b[32m\u001b[1m1 passed\u001b[0m\u001b[32m in 0.03s\u001b[0m\u001b[0m\n"
          ]
        }
      ],
      "source": [
        "%%ipytest\n",
        "\n",
        "#Change lbs to kg\n",
        "def lbs_to_kg(weight: str) -> str:\n",
        "  \"\"\"changes lbs to kg\"\"\"\n",
        "  if \"lbs\" in weight:\n",
        "    weight_number = weight.split(\" \")\n",
        "    new_weight =  str(int(weight_number[0]) * .453)\n",
        "    return new_weight[:5]\n",
        "  else:\n",
        "    return weight\n",
        "\n",
        "def test_lbs_to_kg():\n",
        "  assert lbs_to_kg(\"34 lbs\") == \"15.40\"\n",
        "  assert lbs_to_kg(\"1\") == \"1\"\n",
        "  assert lbs_to_kg(\"12 lbs\") == \"5.436\""
      ]
    },
    {
      "cell_type": "markdown",
      "source": [
        "^^^\n",
        "This function changes any lbs to kg"
      ],
      "metadata": {
        "id": "GH4EO6eSTBDu"
      }
    },
    {
      "cell_type": "code",
      "source": [
        "NA_table[\"bag_weight\"] = NA_table.apply(lbs_to_kg, \"bag_weight\")\n",
        "table_with_kg = NA_table\n",
        "table_with_kg"
      ],
      "metadata": {
        "id": "zqZymzFrFwOE"
      },
      "execution_count": null,
      "outputs": []
    },
    {
      "cell_type": "markdown",
      "source": [
        "^^^\n",
        "Apply lbs_to_kg to 'bag_weight' column"
      ],
      "metadata": {
        "id": "HMLF9mWaTfCA"
      }
    },
    {
      "cell_type": "code",
      "execution_count": null,
      "metadata": {
        "id": "fAEcZ9xl91Qx",
        "colab": {
          "base_uri": "https://localhost:8080/"
        },
        "outputId": "7921610d-dd6a-4b70-db9c-d25af4071df0"
      },
      "outputs": [
        {
          "output_type": "stream",
          "name": "stdout",
          "text": [
            "\u001b[32m.\u001b[0m\u001b[32m                                                                                            [100%]\u001b[0m\n",
            "\u001b[32m\u001b[32m\u001b[1m1 passed\u001b[0m\u001b[32m in 0.03s\u001b[0m\u001b[0m\n"
          ]
        }
      ],
      "source": [
        "%%ipytest\n",
        "\n",
        "def remove_kg(weight: str) -> str:\n",
        "  \"\"\"Removes 'kg' to the measurents\"\"\"\n",
        "  if \"kg\" in weight:\n",
        "    weight_split = weight.split(\" \")\n",
        "    return weight_split[0]\n",
        "  else:\n",
        "    return weight\n",
        "\n",
        "def test_remove_kg():\n",
        "  assert remove_kg('4 kg') == \"4\"\n",
        "  assert remove_kg('34 kg') == \"34\"\n",
        "  assert remove_kg('4') == \"4\"\n",
        "\n",
        "table_with_kg[\"bag_weight\"] = table_with_kg.apply(remove_kg, \"bag_weight\")\n",
        "clean_table = table_with_kg\n",
        "clean_table = clean_table.relabeled(\"bag_weight\", \"bag_weight(kg)\")\n",
        "clean_table"
      ]
    },
    {
      "cell_type": "code",
      "source": [],
      "metadata": {
        "id": "bPlZuci8EsRd"
      },
      "execution_count": null,
      "outputs": []
    },
    {
      "cell_type": "markdown",
      "source": [
        "^^^\n",
        "Function 'remove_kg' removes 'kg' from a string which is applied to 'bag_weight' column. Column is relabeled to 'bag_weight(kg)'"
      ],
      "metadata": {
        "id": "xLbgZhgjT4vq"
      }
    },
    {
      "cell_type": "code",
      "source": [
        "#For Question 1\n",
        "#Seperate the table by the type of processing method\n",
        "def seperate_processing_method(method: str) -> Table:\n",
        "  \"\"\"filters the table with the given processing method\"\"\"\n",
        "  return clean_table.where(\"processing_method\", lambda x: x == method)\n",
        "\n",
        "washed_wet_table = seperate_processing_method(\"Washed / Wet\")\n",
        "natural_dry_table = seperate_processing_method(\"Natural / Dry\")\n",
        "pulp_table = seperate_processing_method(\"Pulped natural / honey\")\n",
        "semi_table = seperate_processing_method(\"Semi-washed / Semi-pulped\")\n",
        "NA_table = seperate_processing_method(\"NA\")\n",
        "other_table = seperate_processing_method(\"Other\")"
      ],
      "metadata": {
        "id": "SxBu7KcGI87K"
      },
      "execution_count": null,
      "outputs": []
    },
    {
      "cell_type": "code",
      "source": [
        "%%ipytest\n",
        "\n",
        "def column_mean(table: Table, column_name: str) -> float:\n",
        "  \"\"\"Takes the mean of a column from a table\"\"\"\n",
        "  total = 0\n",
        "  for n in table[column_name]:\n",
        "    total = total + n\n",
        "  return total / table.num_rows\n",
        "\n",
        "def test_column_mean():\n",
        "  assert column_mean(clean_table, \"moisture\") == 0.088379387602688486\n",
        "  assert column_mean(clean_table, \"aroma\") == 7.56670649738611\n",
        "  assert column_mean(clean_table, \"total_cup_points\") == 82.089850634801991\n",
        "\n",
        "def list_of_averages(column: str) -> int:\n",
        "  \"\"\"Takes the averages of a column for each type of processing method\"\"\"\n",
        "  return [column_mean(natural_dry_table, column),\n",
        "  column_mean(pulp_table, column),\n",
        "  column_mean(semi_table, column),\n",
        "  column_mean(washed_wet_table, column)]"
      ],
      "metadata": {
        "colab": {
          "base_uri": "https://localhost:8080/"
        },
        "id": "TiLWWewQI_og",
        "outputId": "0a6b1eeb-5022-43c6-ac5b-14989455a7c0"
      },
      "execution_count": null,
      "outputs": [
        {
          "output_type": "stream",
          "name": "stdout",
          "text": [
            "\u001b[32m.\u001b[0m\u001b[32m                                                                                            [100%]\u001b[0m\n",
            "\u001b[32m\u001b[32m\u001b[1m1 passed\u001b[0m\u001b[32m in 0.02s\u001b[0m\u001b[0m\n"
          ]
        }
      ]
    },
    {
      "cell_type": "code",
      "source": [
        "list_acid_av = list_of_averages(\"acidity\")\n",
        "list_flavor_av = list_of_averages(\"flavor\")\n",
        "list_body_av = list_of_averages(\"body\")"
      ],
      "metadata": {
        "id": "u0OyxkyjJEZ1"
      },
      "execution_count": null,
      "outputs": []
    },
    {
      "cell_type": "markdown",
      "source": [
        "^^^\n",
        "Stores the average for each processing method for acidity, flavor, and body"
      ],
      "metadata": {
        "id": "R_zIiEtcV4IF"
      }
    },
    {
      "cell_type": "code",
      "execution_count": null,
      "metadata": {
        "id": "_v6G_0TkPUCm"
      },
      "outputs": [],
      "source": [
        "#Makes a list of the different processing methods\n",
        "processing_list = list(clean_table.group(\"processing_method\")[\"processing_method\"])\n",
        "processing_list.remove(\"NA\")\n",
        "processing_list.remove(\"Other\")\n",
        "processing_list\n",
        "\n",
        "#Build table\n",
        "average_acidity_flavor = Table().with_columns(\"method\", processing_list, \"average acidity\", list_acid_av, \"average flavor\", list_flavor_av, \"average body\", list_body_av)\n",
        "average_acidity_flavor.sort(\"average flavor\", descending=True)\n",
        "\n",
        "plt.rc('xtick', labelsize=7)\n",
        "plt.rc('ytick', labelsize=12)\n",
        "\n",
        "average_acidity_flavor.show()\n",
        "average_acidity_flavor.scatter(\"method\", [\"average flavor\", \"average acidity\", \"average body\"])"
      ]
    },
    {
      "cell_type": "markdown",
      "metadata": {
        "id": "Keo-J6w54Aou"
      },
      "source": [
        "Question #1: How do the different processing methods impact coffee acidity, body, and flavor? How do they compare to each other?\n",
        "\n",
        "None of the methods affect acidity since the results show a consistent score of between 7.52 and 7.55\n",
        "\n",
        "Natural/Dry affects body and flavor in a similar way since both have a similar number of around 7.59.\n",
        "\n",
        "Pupled natural/honey has a lower flavor score than natural/dry and semi-washed/pulped, but a very high score in body of about 7.63.\n",
        "\n",
        "semiwahed/semipulped affects aciditiy the same way as body but has the highest flavor ranking of about 7.59.\n",
        "\n",
        "Washed/wet has the lowest body and flavor ranking of about 7.48"
      ]
    },
    {
      "cell_type": "code",
      "execution_count": null,
      "metadata": {
        "colab": {
          "base_uri": "https://localhost:8080/",
          "height": 392
        },
        "id": "Cav3ni9NC1p4",
        "outputId": "46e6b6f5-3c11-4b41-d833-54df05617d01"
      },
      "outputs": [
        {
          "output_type": "execute_result",
          "data": {
            "text/plain": [
              "region         | count\n",
              "huila          | 112\n",
              "oriente        | 80\n",
              "south of minas | 68\n",
              "kona           | 66\n",
              "NA             | 59\n",
              "veracruz       | 35\n",
              "tarrazu        | 19\n",
              "comayagua      | 17\n",
              "huehuetenango  | 16\n",
              "san marcos     | 16\n",
              "... (347 rows omitted)"
            ],
            "text/html": [
              "<table border=\"1\" class=\"dataframe\">\n",
              "    <thead>\n",
              "        <tr>\n",
              "            <th>region</th> <th>count</th>\n",
              "        </tr>\n",
              "    </thead>\n",
              "    <tbody>\n",
              "        <tr>\n",
              "            <td>huila         </td> <td>112  </td>\n",
              "        </tr>\n",
              "        <tr>\n",
              "            <td>oriente       </td> <td>80   </td>\n",
              "        </tr>\n",
              "        <tr>\n",
              "            <td>south of minas</td> <td>68   </td>\n",
              "        </tr>\n",
              "        <tr>\n",
              "            <td>kona          </td> <td>66   </td>\n",
              "        </tr>\n",
              "        <tr>\n",
              "            <td>NA            </td> <td>59   </td>\n",
              "        </tr>\n",
              "        <tr>\n",
              "            <td>veracruz      </td> <td>35   </td>\n",
              "        </tr>\n",
              "        <tr>\n",
              "            <td>tarrazu       </td> <td>19   </td>\n",
              "        </tr>\n",
              "        <tr>\n",
              "            <td>comayagua     </td> <td>17   </td>\n",
              "        </tr>\n",
              "        <tr>\n",
              "            <td>huehuetenango </td> <td>16   </td>\n",
              "        </tr>\n",
              "        <tr>\n",
              "            <td>san marcos    </td> <td>16   </td>\n",
              "        </tr>\n",
              "    </tbody>\n",
              "</table>\n",
              "<p>... (347 rows omitted)</p>"
            ]
          },
          "metadata": {},
          "execution_count": 280
        }
      ],
      "source": [
        "#For question #2\n",
        "clean_table.group(\"region\").sort(\"count\", descending=True)"
      ]
    },
    {
      "cell_type": "code",
      "execution_count": null,
      "metadata": {
        "id": "T2_rOnWULOQO"
      },
      "outputs": [],
      "source": [
        "def flavor_of_region(region: str) -> Table:\n",
        "  \"\"\"Filters the table with the given region and sorts the highest flavor scores\"\"\"\n",
        "  return clean_table.where(\"region\", lambda x: x == region).sort(\"flavor\", descending= True)\n",
        "\n",
        "def list_top_50(table: Table):\n",
        "  \"\"\"Makes a list of the top 50 highest flavor ratings of a region\"\"\"\n",
        "  return list(table.column(\"flavor\"))[:50]\n",
        "\n",
        "huila_top = list_top_50(flavor_of_region(\"huila\"))\n",
        "oriente_top = list_top_50(flavor_of_region(\"oriente\"))\n",
        "south_top = list_top_50(flavor_of_region(\"south of minas\"))\n",
        "\n",
        "ratings = [huila_top, oriente_top, south_top]"
      ]
    },
    {
      "cell_type": "code",
      "execution_count": null,
      "metadata": {
        "colab": {
          "base_uri": "https://localhost:8080/",
          "height": 596
        },
        "id": "ggrfR2thRfx4",
        "outputId": "4fe41900-8240-4b82-c753-fca10dfc87fd"
      },
      "outputs": [
        {
          "output_type": "display_data",
          "data": {
            "text/plain": [
              "<Figure size 1000x600 with 1 Axes>"
            ],
            "image/png": "[encoded data removed]"
          },
          "metadata": {}
        }
      ],
      "source": [
        "region_names = ['Huila', 'Oriente', 'South of Minas']\n",
        "# Creating the scatter plot\n",
        "plt.figure(figsize=(10, 6))\n",
        "for i, flavor in enumerate(region_names):\n",
        "    plt.bar([flavor] * len(ratings[i]), ratings[i], label=flavor)\n",
        "\n",
        "plt.title('Flavor Ratings Rrom Differnt Regions')\n",
        "plt.xlabel('Region')\n",
        "plt.ylabel('Flavor Rating')\n",
        "plt.show()"
      ]
    },
    {
      "cell_type": "markdown",
      "source": [
        "Question #2: Which region has the highest and lowest flavor ranking and how do they compare to eachother?\n",
        "\n",
        "South of Minas has the highest flavor rating coffees of over 8. Oriente also has coffee with scores over 8, but also has very low scores of around 7.3. Even though Huila does not exceed a score of 8, their coffee score averages are higher than Oriente and South of Minas."
      ],
      "metadata": {
        "id": "ghP495aR7mQw"
      }
    },
    {
      "cell_type": "code",
      "execution_count": null,
      "metadata": {
        "colab": {
          "base_uri": "https://localhost:8080/",
          "height": 392
        },
        "id": "SupTzHWmkqvm",
        "outputId": "a9eaf4e1-aedf-421b-d49a-a4bcf2bb989b"
      },
      "outputs": [
        {
          "output_type": "execute_result",
          "data": {
            "text/plain": [
              "company                          | count\n",
              "NA                               | 209\n",
              "unex guatemala, s.a.             | 86\n",
              "ipanema coffees                  | 50\n",
              "exportadora de cafe condor s.a   | 40\n",
              "kona pacific farmers cooperative | 40\n",
              "racafe & cia s.c.a               | 40\n",
              "blossom valley宸嶧國際               | 25\n",
              "carcafe ltda                     | 25\n",
              "nucoffee                         | 24\n",
              "taiwan coffee laboratory         | 20\n",
              "... (272 rows omitted)"
            ],
            "text/html": [
              "<table border=\"1\" class=\"dataframe\">\n",
              "    <thead>\n",
              "        <tr>\n",
              "            <th>company</th> <th>count</th>\n",
              "        </tr>\n",
              "    </thead>\n",
              "    <tbody>\n",
              "        <tr>\n",
              "            <td>NA                              </td> <td>209  </td>\n",
              "        </tr>\n",
              "        <tr>\n",
              "            <td>unex guatemala, s.a.            </td> <td>86   </td>\n",
              "        </tr>\n",
              "        <tr>\n",
              "            <td>ipanema coffees                 </td> <td>50   </td>\n",
              "        </tr>\n",
              "        <tr>\n",
              "            <td>exportadora de cafe condor s.a  </td> <td>40   </td>\n",
              "        </tr>\n",
              "        <tr>\n",
              "            <td>kona pacific farmers cooperative</td> <td>40   </td>\n",
              "        </tr>\n",
              "        <tr>\n",
              "            <td>racafe & cia s.c.a              </td> <td>40   </td>\n",
              "        </tr>\n",
              "        <tr>\n",
              "            <td>blossom valley宸嶧國際              </td> <td>25   </td>\n",
              "        </tr>\n",
              "        <tr>\n",
              "            <td>carcafe ltda                    </td> <td>25   </td>\n",
              "        </tr>\n",
              "        <tr>\n",
              "            <td>nucoffee                        </td> <td>24   </td>\n",
              "        </tr>\n",
              "        <tr>\n",
              "            <td>taiwan coffee laboratory        </td> <td>20   </td>\n",
              "        </tr>\n",
              "    </tbody>\n",
              "</table>\n",
              "<p>... (272 rows omitted)</p>"
            ]
          },
          "metadata": {},
          "execution_count": 283
        }
      ],
      "source": [
        "#For question 3\n",
        "company_counts = clean_table.group(\"company\").sort(\"count\", descending=True)\n",
        "company_counts"
      ]
    },
    {
      "cell_type": "code",
      "source": [
        "chosen_companies = company_counts.where(\"count\", lambda x: x == 40)\n",
        "chosen_companies_names = list(chosen_companies[\"company\"])\n",
        "chosen_companies"
      ],
      "metadata": {
        "colab": {
          "base_uri": "https://localhost:8080/",
          "height": 143
        },
        "id": "LAZ3mX7r5dyy",
        "outputId": "17215c77-3dd4-458a-b187-7b69f66f646c"
      },
      "execution_count": null,
      "outputs": [
        {
          "output_type": "execute_result",
          "data": {
            "text/plain": [
              "company                          | count\n",
              "exportadora de cafe condor s.a   | 40\n",
              "kona pacific farmers cooperative | 40\n",
              "racafe & cia s.c.a               | 40"
            ],
            "text/html": [
              "<table border=\"1\" class=\"dataframe\">\n",
              "    <thead>\n",
              "        <tr>\n",
              "            <th>company</th> <th>count</th>\n",
              "        </tr>\n",
              "    </thead>\n",
              "    <tbody>\n",
              "        <tr>\n",
              "            <td>exportadora de cafe condor s.a  </td> <td>40   </td>\n",
              "        </tr>\n",
              "        <tr>\n",
              "            <td>kona pacific farmers cooperative</td> <td>40   </td>\n",
              "        </tr>\n",
              "        <tr>\n",
              "            <td>racafe & cia s.c.a              </td> <td>40   </td>\n",
              "        </tr>\n",
              "    </tbody>\n",
              "</table>"
            ]
          },
          "metadata": {},
          "execution_count": 284
        }
      ]
    },
    {
      "cell_type": "code",
      "execution_count": null,
      "metadata": {
        "id": "EvPMcKPSd2kr",
        "colab": {
          "base_uri": "https://localhost:8080/"
        },
        "outputId": "d0a2d073-acbd-45ff-d48a-25d4212c1cb0"
      },
      "outputs": [
        {
          "output_type": "stream",
          "name": "stdout",
          "text": [
            "\u001b[32m.\u001b[0m\u001b[32m                                                                                            [100%]\u001b[0m\n",
            "\u001b[32m\u001b[32m\u001b[1m1 passed\u001b[0m\u001b[32m in 0.02s\u001b[0m\u001b[0m\n"
          ]
        }
      ],
      "source": [
        "%%ipytest\n",
        "\n",
        "def average_moisture(company: str) -> int:\n",
        "  \"\"\"Filters the table for the given company and returns the average moisture ratings\"\"\"\n",
        "  company_table = clean_table.where(\"company\", lambda x: x == company)\n",
        "  return sum(list(company_table[\"moisture\"])) / company_table.num_rows\n",
        "\n",
        "def test_average_moisture():\n",
        "  assert average_moisture(\"racafe & cia s.c.a\") == 0.042500000000000017\n",
        "  assert average_moisture(\"carcafe ltda\") == 0.053600000000000009\n",
        "  assert average_moisture(\"taiwan coffee laboratory\") == 0.064999999999999988"
      ]
    },
    {
      "cell_type": "code",
      "source": [
        "company_averages = list(map(lambda x: average_moisture(x), chosen_companies[\"company\"]))"
      ],
      "metadata": {
        "id": "CPHUSRxmNFTO"
      },
      "execution_count": null,
      "outputs": []
    },
    {
      "cell_type": "code",
      "execution_count": null,
      "metadata": {
        "id": "ieOi-SlYxogO"
      },
      "outputs": [],
      "source": [
        "def company_method(company: str) -> Table:\n",
        "  \"\"\"Takes a company and groups the type of processing method they use for the coffee\"\"\"\n",
        "  company_table = clean_table.where(\"company\", lambda x: x == company)\n",
        "  return company_table.group(\"processing_method\")"
      ]
    },
    {
      "cell_type": "code",
      "execution_count": null,
      "metadata": {
        "colab": {
          "base_uri": "https://localhost:8080/",
          "height": 112
        },
        "id": "QrZD48AB0STn",
        "outputId": "8efa0359-efcb-4495-d2fa-2a4bcbc9f873"
      },
      "outputs": [
        {
          "output_type": "execute_result",
          "data": {
            "text/plain": [
              "processing_method | count\n",
              "Natural / Dry     | 3\n",
              "Washed / Wet      | 37"
            ],
            "text/html": [
              "<table border=\"1\" class=\"dataframe\">\n",
              "    <thead>\n",
              "        <tr>\n",
              "            <th>processing_method</th> <th>count</th>\n",
              "        </tr>\n",
              "    </thead>\n",
              "    <tbody>\n",
              "        <tr>\n",
              "            <td>Natural / Dry    </td> <td>3    </td>\n",
              "        </tr>\n",
              "        <tr>\n",
              "            <td>Washed / Wet     </td> <td>37   </td>\n",
              "        </tr>\n",
              "    </tbody>\n",
              "</table>"
            ]
          },
          "metadata": {},
          "execution_count": 288
        }
      ],
      "source": [
        "(company_method(\"exportadora de cafe condor s.a\"))"
      ]
    },
    {
      "cell_type": "code",
      "execution_count": null,
      "metadata": {
        "colab": {
          "base_uri": "https://localhost:8080/",
          "height": 81
        },
        "id": "CLwcrPFH1uuq",
        "outputId": "f4b8d41b-00b9-44de-af97-240df2641d25"
      },
      "outputs": [
        {
          "output_type": "execute_result",
          "data": {
            "text/plain": [
              "processing_method | count\n",
              "Natural / Dry     | 40"
            ],
            "text/html": [
              "<table border=\"1\" class=\"dataframe\">\n",
              "    <thead>\n",
              "        <tr>\n",
              "            <th>processing_method</th> <th>count</th>\n",
              "        </tr>\n",
              "    </thead>\n",
              "    <tbody>\n",
              "        <tr>\n",
              "            <td>Natural / Dry    </td> <td>40   </td>\n",
              "        </tr>\n",
              "    </tbody>\n",
              "</table>"
            ]
          },
          "metadata": {},
          "execution_count": 289
        }
      ],
      "source": [
        "company_method(\"kona pacific farmers cooperative\")"
      ]
    },
    {
      "cell_type": "code",
      "execution_count": null,
      "metadata": {
        "colab": {
          "base_uri": "https://localhost:8080/",
          "height": 112
        },
        "id": "SlHtgruy1u-j",
        "outputId": "854f84c2-cbe0-4b98-a483-ecee83545cd0"
      },
      "outputs": [
        {
          "output_type": "execute_result",
          "data": {
            "text/plain": [
              "processing_method | count\n",
              "NA                | 4\n",
              "Washed / Wet      | 36"
            ],
            "text/html": [
              "<table border=\"1\" class=\"dataframe\">\n",
              "    <thead>\n",
              "        <tr>\n",
              "            <th>processing_method</th> <th>count</th>\n",
              "        </tr>\n",
              "    </thead>\n",
              "    <tbody>\n",
              "        <tr>\n",
              "            <td>NA               </td> <td>4    </td>\n",
              "        </tr>\n",
              "        <tr>\n",
              "            <td>Washed / Wet     </td> <td>36   </td>\n",
              "        </tr>\n",
              "    </tbody>\n",
              "</table>"
            ]
          },
          "metadata": {},
          "execution_count": 290
        }
      ],
      "source": [
        "company_method(\"racafe & cia s.c.a\")"
      ]
    },
    {
      "cell_type": "code",
      "execution_count": null,
      "metadata": {
        "id": "5CezaGSk2H_3"
      },
      "outputs": [],
      "source": [
        "company_method_list = [\"Washed / Wet\", \"Natural / Dry\", \"Washed / Wet\"]"
      ]
    },
    {
      "cell_type": "code",
      "execution_count": null,
      "metadata": {
        "colab": {
          "base_uri": "https://localhost:8080/",
          "height": 143
        },
        "id": "KKgia1m5rswe",
        "outputId": "4c566a53-cc7d-4ba7-9767-1ed1f77e9f20"
      },
      "outputs": [
        {
          "output_type": "execute_result",
          "data": {
            "text/plain": [
              "company                          | company averages | processing method\n",
              "exportadora de cafe condor s.a   | 0.061            | Washed / Wet\n",
              "kona pacific farmers cooperative | 0.075            | Natural / Dry\n",
              "racafe & cia s.c.a               | 0.0425           | Washed / Wet"
            ],
            "text/html": [
              "<table border=\"1\" class=\"dataframe\">\n",
              "    <thead>\n",
              "        <tr>\n",
              "            <th>company</th> <th>company averages</th> <th>processing method</th>\n",
              "        </tr>\n",
              "    </thead>\n",
              "    <tbody>\n",
              "        <tr>\n",
              "            <td>exportadora de cafe condor s.a  </td> <td>0.061           </td> <td>Washed / Wet     </td>\n",
              "        </tr>\n",
              "        <tr>\n",
              "            <td>kona pacific farmers cooperative</td> <td>0.075           </td> <td>Natural / Dry    </td>\n",
              "        </tr>\n",
              "        <tr>\n",
              "            <td>racafe & cia s.c.a              </td> <td>0.0425          </td> <td>Washed / Wet     </td>\n",
              "        </tr>\n",
              "    </tbody>\n",
              "</table>"
            ]
          },
          "metadata": {},
          "execution_count": 292
        }
      ],
      "source": [
        "Table().with_columns(\"company\", chosen_companies_names, \"company averages\", company_averages, \"processing method\", company_method_list)"
      ]
    },
    {
      "cell_type": "markdown",
      "source": [
        "Question #3: Do companies use one processing method or multiple? Does this processing method impact the moisture level of the coffee?\n",
        "\n",
        "The processing method does impact the moisture level. To use efficient data, I took the average moisture from the 3 companies that have exactly 40 coffee types in the table. The moisture level was the lowest by 'racafe & cia s.c.a' of 0.0424 using the washed/wet method. 'Kona pacific farmers cooperative' had the highest score of 0.075 and they used natural/dry method. Therefore, natural/dry method results in a higher score, while washed/wet method is lower."
      ],
      "metadata": {
        "id": "jJJBkPbE2ZGJ"
      }
    },
    {
      "cell_type": "markdown",
      "source": [
        "References\n",
        "\n",
        "“Coffee_quality_rating_predictor/Data/Raw/Coffee_ratings.csv at Main · UBC-MDS/Coffee_quality_rating_predictor.” GitHub, github.com/UBC-MDS/Coffee_quality_rating_predictor/blob/main/data/raw/coffee_ratings.csv. Accessed 22 Nov. 2023."
      ],
      "metadata": {
        "id": "0gg3ya6GWjTF"
      }
    }
  ],
  "metadata": {
    "colab": {
      "provenance": []
    },
    "kernelspec": {
      "display_name": "Python 3",
      "name": "python3"
    },
    "language_info": {
      "name": "python"
    }
  },
  "nbformat": 4,
  "nbformat_minor": 0
}